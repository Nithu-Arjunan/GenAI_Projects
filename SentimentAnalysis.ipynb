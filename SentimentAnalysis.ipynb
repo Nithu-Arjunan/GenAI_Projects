{
 "cells": [
  {
   "cell_type": "code",
   "execution_count": 1,
   "id": "0925656d-bca5-461a-87a0-b7a85c564774",
   "metadata": {},
   "outputs": [],
   "source": [
    "# Import the necessary libraries\n",
    "\n",
    "import openai  # OpenAI Python library for using GPT-3 language model\n",
    "import time  # Time module for handling time-related operations\n",
    "import gradio as gr"
   ]
  },
  {
   "cell_type": "code",
   "execution_count": 2,
   "id": "19460fd4-f9b9-48c6-8f34-6166a3f6cc7b",
   "metadata": {},
   "outputs": [],
   "source": [
    "# Define a function that takes a text string as input and use Open AI to analyze the sentiment of the text\n",
    "\n",
    "def analyze_sentiment(text):\n",
    "    try:\n",
    "        # Use OpenAI to analyze the sentiment of the text\n",
    "        result = openai.Completion.create(\n",
    "            engine=\"gpt-3.5-turbo-instruct\",\n",
    "            prompt=f\"Please analyze and give the detailed sentiment of the following text:{text}\",\n",
    "            temperature=0,\n",
    "            max_tokens=128,\n",
    "            n=1,\n",
    "            stop=None,\n",
    "            timeout=10,\n",
    "        )\n",
    "        # Extract the sentiment from the API response\n",
    "        openai_sentiment = result.choices[0].text.strip().replace(\"The sentiment of the text is \", \"\").rstrip('.')\n",
    "\n",
    "        # Determine the sentiment score based on the extracted sentiment\n",
    "        if \"positive\" in str(openai_sentiment).lower():\n",
    "            openai_sentiment_score = \"positive\"\n",
    "        elif \"negative\" in str(openai_sentiment).lower():\n",
    "            openai_sentiment_score = \"negative\"\n",
    "        else:\n",
    "            openai_sentiment_score = \"neutral\"\n",
    "            \n",
    "        #Return the final sentiment instead of printing\n",
    "        return f\"Sentiment: {openai_sentiment_score}\\nDetails: {openai_sentiment}\"\n",
    "    \n",
    "    except Exception as e:\n",
    "        return f\"Error: {str(e)}\"\n",
    "    \n",
    "    "
   ]
  },
  {
   "cell_type": "code",
   "execution_count": 3,
   "id": "8c592617-8489-4cf3-af3b-83a77a9d2841",
   "metadata": {},
   "outputs": [
    {
     "data": {
      "text/plain": [
       "'Sentiment: negative\\nDetails: negative. The speaker expresses a lack of desire or motivation to wake up early in the morning, indicating a feeling of reluctance or displeasure. This sentiment is reinforced by the use of the word \"do not\" and the phrase \"feel like,\" which both convey a sense of resistance or opposition. The use of the word \"early\" also suggests that the speaker finds the time of day unpleasant or undesirable. Overall, the sentiment of the text is one of negativity and reluctance towards waking up early in the morning'"
      ]
     },
     "execution_count": 3,
     "metadata": {},
     "output_type": "execute_result"
    }
   ],
   "source": [
    "# Example usage ** Enter your text below**\n",
    "text = \"I do not feel like waking up early in the morning\"\n",
    "analyze_sentiment(text)"
   ]
  },
  {
   "cell_type": "code",
   "execution_count": 5,
   "id": "01aa98c3-7bb5-43f8-95cf-404220c7583b",
   "metadata": {},
   "outputs": [
    {
     "name": "stdout",
     "output_type": "stream",
     "text": [
      "* Running on local URL:  http://127.0.0.1:7861\n",
      "* Running on public URL: https://27897644ce31278676.gradio.live\n",
      "\n",
      "This share link expires in 1 week. For free permanent hosting and GPU upgrades, run `gradio deploy` from the terminal in the working directory to deploy to Hugging Face Spaces (https://huggingface.co/spaces)\n"
     ]
    },
    {
     "data": {
      "text/html": [
       "<div><iframe src=\"https://27897644ce31278676.gradio.live\" width=\"100%\" height=\"500\" allow=\"autoplay; camera; microphone; clipboard-read; clipboard-write;\" frameborder=\"0\" allowfullscreen></iframe></div>"
      ],
      "text/plain": [
       "<IPython.core.display.HTML object>"
      ]
     },
     "metadata": {},
     "output_type": "display_data"
    },
    {
     "data": {
      "text/plain": []
     },
     "execution_count": 5,
     "metadata": {},
     "output_type": "execute_result"
    }
   ],
   "source": [
    "# Gradio UI\n",
    "interface = gr.Interface(\n",
    "    fn=analyze_sentiment,\n",
    "    inputs=gr.Textbox(label=\"Enter your text here\", lines=4, placeholder=\"Type a sentence to analyze...\"),\n",
    "    outputs=gr.Textbox(label=\"Predicted Sentiment\"),\n",
    "    title=\"OpenAI Sentiment Analyzer\",\n",
    "    description=\"Uses GPT-3.5 to analyze the sentiment of your input text.\"\n",
    ")\n",
    "\n",
    "# Launch the app\n",
    "interface.launch(share=True)"
   ]
  },
  {
   "cell_type": "code",
   "execution_count": null,
   "id": "5c8ac8e4-c159-4793-9f0a-31ebe063998d",
   "metadata": {},
   "outputs": [],
   "source": []
  }
 ],
 "metadata": {
  "kernelspec": {
   "display_name": "Python 3 [3.10]",
   "language": "python",
   "name": "python3"
  },
  "language_info": {
   "codemirror_mode": {
    "name": "ipython",
    "version": 3
   },
   "file_extension": ".py",
   "mimetype": "text/x-python",
   "name": "python",
   "nbconvert_exporter": "python",
   "pygments_lexer": "ipython3",
   "version": "3.10.2"
  }
 },
 "nbformat": 4,
 "nbformat_minor": 5
}
