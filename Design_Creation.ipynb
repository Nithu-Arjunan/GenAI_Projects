{
 "cells": [
  {
   "cell_type": "code",
   "execution_count": 1,
   "id": "ad8d0646-46fa-4e5e-a6e1-1500f1d3829a",
   "metadata": {},
   "outputs": [],
   "source": [
    "# Import the necessary libraries\n",
    "\n",
    "import openai\n",
    "import requests\n",
    "from PIL import Image\n",
    "from io import BytesIO\n",
    "import gradio as gr"
   ]
  },
  {
   "cell_type": "code",
   "execution_count": 3,
   "id": "849e8297-ff20-46f5-9a40-a159dc36bc40",
   "metadata": {},
   "outputs": [],
   "source": [
    "# Definig a function which generates images from the text using the DALLE\n",
    "\n",
    "def generate_image(prompt):\n",
    "    try:\n",
    "        # Step 1: Generate image using OpenAI's DALL·E API\n",
    "        response = openai.Image.create(\n",
    "            prompt=prompt,\n",
    "            n=1,\n",
    "            size=\"1024x1024\"  # Can change to 512x512 or custom if needed\n",
    "        )\n",
    "\n",
    "        # Step 2: Extract image URL from response\n",
    "        image_url = response['data'][0]['url']\n",
    "\n",
    "        # Step 3: Fetch image using requests\n",
    "        image_response = requests.get(image_url)\n",
    "\n",
    "        # Step 4: Convert image data to a PIL Image\n",
    "        image = Image.open(BytesIO(image_response.content))\n",
    "\n",
    "        return image\n",
    "\n",
    "    except Exception as e:\n",
    "        print(f\"Error generating image: {e}\")\n",
    "        return None\n"
   ]
  },
  {
   "cell_type": "code",
   "execution_count": 4,
   "id": "fcfdc90b-684c-42a1-9d1b-42dde7eaaa02",
   "metadata": {},
   "outputs": [
    {
     "name": "stdout",
     "output_type": "stream",
     "text": [
      "* Running on local URL:  http://127.0.0.1:7860\n",
      "* Running on public URL: https://696300c26445bc4281.gradio.live\n",
      "\n",
      "This share link expires in 1 week. For free permanent hosting and GPU upgrades, run `gradio deploy` from the terminal in the working directory to deploy to Hugging Face Spaces (https://huggingface.co/spaces)\n"
     ]
    },
    {
     "data": {
      "text/html": [
       "<div><iframe src=\"https://696300c26445bc4281.gradio.live\" width=\"100%\" height=\"500\" allow=\"autoplay; camera; microphone; clipboard-read; clipboard-write;\" frameborder=\"0\" allowfullscreen></iframe></div>"
      ],
      "text/plain": [
       "<IPython.core.display.HTML object>"
      ]
     },
     "metadata": {},
     "output_type": "display_data"
    },
    {
     "data": {
      "text/plain": []
     },
     "execution_count": 4,
     "metadata": {},
     "output_type": "execute_result"
    }
   ],
   "source": [
    "# Gradio wrapper function (calls our generate_image)\n",
    "def generate_image_ui(prompt):\n",
    "    return generate_image(prompt)\n",
    "\n",
    "# Create the  Gradio interface\n",
    "interface = gr.Interface(\n",
    "    fn=generate_image_ui,\n",
    "    inputs=gr.Textbox(lines=2, placeholder=\"Enter your prompt for Netflix banner/poster...\"),\n",
    "    outputs=\"image\",\n",
    "    title=\"🎬 Netflix AI Poster Generator\",\n",
    "    description=\"Generate stunning visuals for Netflix campaigns using AI. Just describe your idea and see the magic!\"\n",
    ")\n",
    "\n",
    "# Launch the interface\n",
    "interface.launch(share=True)"
   ]
  },
  {
   "cell_type": "code",
   "execution_count": null,
   "id": "b62e007f-7f5a-4a75-a992-fa751907107f",
   "metadata": {},
   "outputs": [],
   "source": []
  }
 ],
 "metadata": {
  "kernelspec": {
   "display_name": "Python 3 [3.10]",
   "language": "python",
   "name": "python3"
  },
  "language_info": {
   "codemirror_mode": {
    "name": "ipython",
    "version": 3
   },
   "file_extension": ".py",
   "mimetype": "text/x-python",
   "name": "python",
   "nbconvert_exporter": "python",
   "pygments_lexer": "ipython3",
   "version": "3.10.2"
  }
 },
 "nbformat": 4,
 "nbformat_minor": 5
}
