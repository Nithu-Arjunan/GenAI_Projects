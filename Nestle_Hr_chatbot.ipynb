{
 "cells": [
  {
   "cell_type": "code",
   "execution_count": 20,
   "id": "5e327db6-dc02-4e3f-a1c5-dbd83461ba5a",
   "metadata": {},
   "outputs": [],
   "source": [
    "#Import necessary libraries\n",
    "import os\n",
    "import openai\n",
    "import sys\n",
    "from langchain.document_loaders import PyPDFLoader\n",
    "from langchain.text_splitter import RecursiveCharacterTextSplitter\n",
    "from langchain.prompts import PromptTemplate\n",
    "from langchain.vectorstores import Chroma\n",
    "import gradio as gr\n",
    "import pysqlite3\n",
    "sys.modules[\"sqlite3\"] = sys.modules.pop(\"pysqlite3\")"
   ]
  },
  {
   "cell_type": "code",
   "execution_count": 2,
   "id": "2b5c9ec1-ad81-4723-8346-f305de9e803d",
   "metadata": {},
   "outputs": [],
   "source": [
    "#Loading Nestle's HR policy using PyPDFLoader\n",
    "\n",
    "Doc_loader = PyPDFLoader(\"the_nestle_hr_policy_pdf_2012.pdf\")\n",
    "extracted_text = Doc_loader.load()"
   ]
  },
  {
   "cell_type": "code",
   "execution_count": 3,
   "id": "ad6f3871-1e15-4d57-84e0-708b586d53cd",
   "metadata": {},
   "outputs": [],
   "source": [
    "# Splitting the text\n",
    "\n",
    "text_splitter  = RecursiveCharacterTextSplitter(\n",
    "    chunk_size=750,\n",
    "    chunk_overlap=100,\n",
    "    separators=[\"\\n\\n\", \"\\n\", \"(?<=\\. )\", \" \", \"\"]\n",
    ")\n",
    "splitted_text=text_splitter.split_documents(extracted_text)"
   ]
  },
  {
   "cell_type": "code",
   "execution_count": 4,
   "id": "e0f64fd4-4ed4-4bb8-aae4-d015aabe5178",
   "metadata": {},
   "outputs": [
    {
     "data": {
      "text/plain": [
       "25"
      ]
     },
     "execution_count": 4,
     "metadata": {},
     "output_type": "execute_result"
    }
   ],
   "source": [
    "len(splitted_text)"
   ]
  },
  {
   "cell_type": "code",
   "execution_count": 5,
   "id": "a5671b45-d567-4136-98f7-98c6856c9098",
   "metadata": {},
   "outputs": [],
   "source": [
    "# Create vector representations for text chunks using Chroma dB and OpenAI's embeddings.\n",
    "\n",
    "from langchain.embeddings import OpenAIEmbeddings\n",
    "\n",
    "embeddings = OpenAIEmbeddings()\n",
    "\n"
   ]
  },
  {
   "cell_type": "code",
   "execution_count": 7,
   "id": "a9bdcf37-a583-49a2-bfe5-1de684f88992",
   "metadata": {},
   "outputs": [],
   "source": [
    "# Loading the vectordb with embeddings\n",
    "\n",
    "persist_directory = \"nestle_hr_policy\"\n",
    "\n",
    "vectordb = Chroma.from_documents(\n",
    "    documents=splitted_text,\n",
    "    embedding=embeddings,\n",
    "    persist_directory=persist_directory\n",
    ")"
   ]
  },
  {
   "cell_type": "code",
   "execution_count": 8,
   "id": "246c4cd2-770d-491e-b3c8-cf86d96d5a34",
   "metadata": {},
   "outputs": [
    {
     "name": "stdout",
     "output_type": "stream",
     "text": [
      "['a304a25c-4117-11f0-bf7a-0242ac100002', 'a304a3ba-4117-11f0-bf7a-0242ac100002', 'a304a450-4117-11f0-bf7a-0242ac100002', 'a304a4c8-4117-11f0-bf7a-0242ac100002', 'a304a540-4117-11f0-bf7a-0242ac100002']\n"
     ]
    }
   ],
   "source": [
    "# Printing the first 5 document IDs\n",
    "print(vectordb._collection.get()['ids'][:5])  \n"
   ]
  },
  {
   "cell_type": "code",
   "execution_count": 9,
   "id": "f34bacaa-c679-40f1-9be9-7461991619a6",
   "metadata": {},
   "outputs": [
    {
     "name": "stdout",
     "output_type": "stream",
     "text": [
      "ID: a304a25c-4117-11f0-bf7a-0242ac100002\n",
      "Document: Policy\n",
      "MandatorySeptember   2012\n",
      "The Nestlé  \n",
      "Human Resources Policy\n",
      "Metadata: {'page': 0, 'source': 'the_nestle_hr_policy_pdf_2012.pdf'}\n",
      "---\n",
      "ID: a304a3ba-4117-11f0-bf7a-0242ac100002\n",
      "Document: Policy\n",
      "MandatorySeptember \n",
      " 20\n",
      "12Issuing  departement\n",
      "Hum\n",
      "an Resources\n",
      "Target  audience  \n",
      "All\n",
      " employees\n",
      "Approver\n",
      "Executive Board, Nestlé S.A.\n",
      "Repository\n",
      "All Nestlé Principles and Policies, Standards and  Guidelines can be found in the Centre online repository at:  http://intranet.nestle.com/nestledocs\n",
      "Copyright\n",
      " and confidentiality\n",
      "Al\n",
      "l rights belong to Nestec Ltd., Vevey, Switzerland.\n",
      "© 2012, Nestec Ltd.\n",
      "Design\n",
      "Nestec Ltd., Corporate Identity & Design,  Vevey, Switzerland\n",
      "Production\n",
      "Metadata: {'page': 1, 'source': 'the_nestle_hr_policy_pdf_2012.pdf'}\n",
      "---\n",
      "ID: a304a450-4117-11f0-bf7a-0242ac100002\n",
      "Document: © 2012, Nestec Ltd.\n",
      "Design\n",
      "Nestec Ltd., Corporate Identity & Design,  Vevey, Switzerland\n",
      "Production\n",
      "brain’print GmbH, Switzerland\n",
      "Paper\n",
      "This report is printed on BVS, a paper produced  from well-managed forests and other controlled sources  certified by the Forest Stewardship Council (FSC).\n",
      "Metadata: {'page': 1, 'source': 'the_nestle_hr_policy_pdf_2012.pdf'}\n",
      "---\n"
     ]
    }
   ],
   "source": [
    "# Checking the vectordb to ensure that the data is coorectly loaded\n",
    "\n",
    "docs = vectordb._collection.get()\n",
    "for i in range(min(3, len(docs['documents']))):\n",
    "    print(\"ID:\", docs['ids'][i])\n",
    "    print(\"Document:\", docs['documents'][i])\n",
    "    print(\"Metadata:\", docs['metadatas'][i])\n",
    "    print(\"---\")"
   ]
  },
  {
   "cell_type": "code",
   "execution_count": 10,
   "id": "c7071b9c-3459-43f0-a0e4-909246f5362c",
   "metadata": {},
   "outputs": [],
   "source": [
    "# Initializing the LLM\n",
    "from langchain.chat_models import ChatOpenAI\n",
    "llm = ChatOpenAI(model_name=\"gpt-3.5-turbo\", temperature=0)"
   ]
  },
  {
   "cell_type": "code",
   "execution_count": 21,
   "id": "08d1a431-3c99-4c08-81d5-09b76f4dbcc0",
   "metadata": {},
   "outputs": [],
   "source": [
    "# Creating Prompt template\n",
    "\n",
    "template_summary = \"\"\"You are an intelligent and helpful AI assistant. \n",
    "                    Use only the information from the provided document to answer the user's question.\n",
    "                    If the answer cannot be found in the document, respond with:\n",
    "                    \"I’m sorry, I don’t have access to that information in the provided document.\"\n",
    "\n",
    "                    Always be concise, clear, and accurate.You can summarize the answers based on the context from the pdf.\n",
    "                    Context:{context}\n",
    "\n",
    "                    Question: {question}\n",
    "                    Answer:\"\"\"\n",
    "                  \n",
    "\n",
    "\n",
    "prompt_summary = PromptTemplate(\n",
    "                            input_variables=[\"context\", \"question\"],\n",
    "                            template=template_summary\n",
    "                                )"
   ]
  },
  {
   "cell_type": "code",
   "execution_count": 22,
   "id": "4c2f9c32-8a2d-45fc-9cc2-eff42e7960e9",
   "metadata": {},
   "outputs": [],
   "source": [
    "# Create a retrieval function\n",
    "\n",
    "from langchain.chains import RetrievalQA\n",
    "Retriever_chain = RetrievalQA.from_chain_type(llm,\n",
    "                                              retriever=vectordb.as_retriever(),\n",
    "                                              return_source_documents=True, \n",
    "                                              chain_type_kwargs={\"prompt\": prompt_summary}\n",
    "                                             )"
   ]
  },
  {
   "cell_type": "code",
   "execution_count": 23,
   "id": "06fb78d7-ed47-4c4f-bf67-d16829008b6c",
   "metadata": {},
   "outputs": [],
   "source": [
    "# Definig function to modify the result obtained from the retriever\n",
    "\n",
    "from langchain.schema import BaseOutputParser\n",
    "\n",
    "class NeatAnswerParser(BaseOutputParser):\n",
    "    def parse(self, text: str) -> str:\n",
    "        return text.strip()\n"
   ]
  },
  {
   "cell_type": "code",
   "execution_count": 26,
   "id": "be50eba1-c9f4-4ead-bb63-2e126c149476",
   "metadata": {},
   "outputs": [],
   "source": [
    "# Defining a chatbot response for Gradio\n",
    "\n",
    "def chatbot_response(messages, history=None):\n",
    "    try:\n",
    "              \n",
    "        query = messages.strip()\n",
    "        \n",
    "        if query in [\"exit\", \"quit\", \"bye\"]:\n",
    "            return {\"role\": \"assistant\", \"content\": \"Goodbye! Chat ended.\"}\n",
    "        \n",
    "        if not query:\n",
    "            return {\"role\": \"assistant\", \"content\": \"Please enter a question.\"}\n",
    "\n",
    "        response = Retriever_chain({\"query\": query})\n",
    "        answer = response[\"result\"]\n",
    "        source_doc = response[\"source_documents\"][0]\n",
    "        page = source_doc.metadata.get(\"page\", \"unknown\")\n",
    "       \n",
    "\n",
    "        parser = NeatAnswerParser()\n",
    "        clean_answer = parser.parse(answer)\n",
    "\n",
    "        final_output = f\"\"\"**Answer:**  \n",
    "        {clean_answer}\n",
    "\n",
    "         **Source:** Page {page}\"\"\"      \n",
    "        return {\"role\": \"assistant\", \"content\": final_output}\n",
    "    \n",
    "    except Exception as e:\n",
    "        print(\"ERROR:\", e)\n",
    "        return {\"role\": \"assistant\", \"content\": f\"Internal Error: {e}\"}\n"
   ]
  },
  {
   "cell_type": "code",
   "execution_count": 27,
   "id": "1b053354-093e-47e7-9758-b591df3c33c7",
   "metadata": {},
   "outputs": [
    {
     "name": "stderr",
     "output_type": "stream",
     "text": [
      "/voc/work/.local/lib/python3.10/site-packages/gradio/chat_interface.py:322: UserWarning: The gr.ChatInterface was not provided with a type, so the type of the gr.Chatbot, 'messages', will be used.\n",
      "  warnings.warn(\n"
     ]
    },
    {
     "name": "stdout",
     "output_type": "stream",
     "text": [
      "* Running on local URL:  http://127.0.0.1:7862\n",
      "* Running on public URL: https://b4be832f670fc73b6b.gradio.live\n",
      "\n",
      "This share link expires in 1 week. For free permanent hosting and GPU upgrades, run `gradio deploy` from the terminal in the working directory to deploy to Hugging Face Spaces (https://huggingface.co/spaces)\n"
     ]
    },
    {
     "data": {
      "text/html": [
       "<div><iframe src=\"https://b4be832f670fc73b6b.gradio.live\" width=\"100%\" height=\"500\" allow=\"autoplay; camera; microphone; clipboard-read; clipboard-write;\" frameborder=\"0\" allowfullscreen></iframe></div>"
      ],
      "text/plain": [
       "<IPython.core.display.HTML object>"
      ]
     },
     "metadata": {},
     "output_type": "display_data"
    },
    {
     "data": {
      "text/plain": []
     },
     "execution_count": 27,
     "metadata": {},
     "output_type": "execute_result"
    }
   ],
   "source": [
    "# Setting up the chat interface\n",
    "\n",
    "gr.ChatInterface(fn=chatbot_response,\n",
    "                 title=\"Nestlé HR Policy Chatbot\",\n",
    "                 description=\"Ask any HR policy question. I will respond based on the uploaded document.\",\n",
    "                 chatbot=gr.Chatbot(type=\"messages\")).launch(share=True)\n",
    "\n"
   ]
  },
  {
   "cell_type": "code",
   "execution_count": null,
   "id": "29fe221b-8cbb-44e7-b414-0708a4954089",
   "metadata": {},
   "outputs": [],
   "source": []
  },
  {
   "cell_type": "code",
   "execution_count": null,
   "id": "9e4c320d-5907-43d7-8173-c8937ef1edb2",
   "metadata": {},
   "outputs": [],
   "source": []
  }
 ],
 "metadata": {
  "kernelspec": {
   "display_name": "Python 3 [3.10]",
   "language": "python",
   "name": "python3"
  },
  "language_info": {
   "codemirror_mode": {
    "name": "ipython",
    "version": 3
   },
   "file_extension": ".py",
   "mimetype": "text/x-python",
   "name": "python",
   "nbconvert_exporter": "python",
   "pygments_lexer": "ipython3",
   "version": "3.10.2"
  }
 },
 "nbformat": 4,
 "nbformat_minor": 5
}
