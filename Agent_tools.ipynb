{
 "cells": [
  {
   "cell_type": "code",
   "execution_count": 1,
   "id": "9beeb60e-303a-4846-8768-319f9db08ad3",
   "metadata": {},
   "outputs": [],
   "source": [
    "!pip install -q wikipedia"
   ]
  },
  {
   "cell_type": "code",
   "execution_count": 4,
   "id": "c3afaf3c-295f-4fd8-bbbb-736d0c0d6625",
   "metadata": {},
   "outputs": [],
   "source": [
    "# Install the necessary dependencies\n",
    "\n",
    "from langchain.agents import load_tools, initialize_agent, AgentType\n",
    "from langchain.memory import ConversationBufferMemory\n",
    "from langchain.chat_models import ChatOpenAI"
   ]
  },
  {
   "cell_type": "code",
   "execution_count": 5,
   "id": "995fcb6f-febb-4e74-804f-fc52a1ed4d9e",
   "metadata": {},
   "outputs": [],
   "source": [
    "# Instantiate Agentic memory and llm\n",
    "\n",
    "agentic_memory = ConversationBufferMemory(memory_key = 'sl_ags_memory')\n",
    "llm = ChatOpenAI(model = 'gpt-3.5-turbo',temperature=0)"
   ]
  },
  {
   "cell_type": "code",
   "execution_count": 6,
   "id": "811eddb7-a237-455c-a976-4ef7c56fef96",
   "metadata": {},
   "outputs": [],
   "source": [
    "# Definig tools used\n",
    "\n",
    "tools = load_tools(['llm-math','wikipedia'], llm=llm)"
   ]
  },
  {
   "cell_type": "code",
   "execution_count": 11,
   "id": "1541a53c-7f79-46ad-ba4a-d9eaf9e4ede0",
   "metadata": {},
   "outputs": [],
   "source": [
    "# Initialise Agents\n",
    "\n",
    "agent = initialize_agent(tools, \n",
    "                         llm=llm, \n",
    "                         agent=AgentType.CHAT_ZERO_SHOT_REACT_DESCRIPTION,\n",
    "                         memory=agentic_memory,\n",
    "                         handle_parsing_errors=True,\n",
    "                         verbose=True\n",
    "                        )"
   ]
  },
  {
   "cell_type": "code",
   "execution_count": 12,
   "id": "22cd78ba-b82a-49bc-96e5-760df7300576",
   "metadata": {},
   "outputs": [
    {
     "name": "stdout",
     "output_type": "stream",
     "text": [
      "\n",
      "\n",
      "\u001b[1m> Entering new AgentExecutor chain...\u001b[0m\n",
      "\u001b[32;1m\u001b[1;3mThought: This is a simple math question that can be easily solved using a calculator.\n",
      "\n",
      "Action:\n",
      "```\n",
      "{\n",
      "  \"action\": \"Calculator\",\n",
      "  \"action_input\": \"2+2\"\n",
      "}\n",
      "```\n",
      "\n",
      "\u001b[0m\n",
      "Observation: \u001b[36;1m\u001b[1;3mAnswer: 4\u001b[0m\n",
      "Thought:\u001b[32;1m\u001b[1;3mI now know the final answer\n",
      "\n",
      "Final Answer: 4\u001b[0m\n",
      "\n",
      "\u001b[1m> Finished chain.\u001b[0m\n"
     ]
    },
    {
     "data": {
      "text/plain": [
       "'4'"
      ]
     },
     "execution_count": 12,
     "metadata": {},
     "output_type": "execute_result"
    }
   ],
   "source": [
    "# Invoking the Agent to get the results\n",
    "agent.run(input = 'What is 2+2?')\n"
   ]
  },
  {
   "cell_type": "code",
   "execution_count": 13,
   "id": "5d8c5e91-9ee7-4055-87c8-ca4ad1f2931c",
   "metadata": {},
   "outputs": [
    {
     "name": "stdout",
     "output_type": "stream",
     "text": [
      "\n",
      "\n",
      "\u001b[1m> Entering new AgentExecutor chain...\u001b[0m\n",
      "\u001b[32;1m\u001b[1;3mThought: I should use Wikipedia to find information about Richard Feynman.\n",
      "\n",
      "Action:\n",
      "```\n",
      "{\n",
      "  \"action\": \"Wikipedia\",\n",
      "  \"action_input\": \"Richard Feynman\"\n",
      "}\n",
      "```\u001b[0m\n",
      "Observation: \u001b[33;1m\u001b[1;3mPage: Richard Feynman\n",
      "Summary: Richard Phillips Feynman (; May 11, 1918 – February 15, 1988) was an American theoretical physicist. He is best known for his work in the path integral formulation of quantum mechanics, the theory of quantum electrodynamics, the physics of the superfluidity of supercooled liquid helium, and in particle physics, for which he proposed the parton model. For his contributions to the development of quantum electrodynamics, Feynman received the Nobel Prize in Physics in 1965 jointly with Julian Schwinger and Shin'ichirō Tomonaga.\n",
      "Feynman developed a pictorial representation scheme for the mathematical expressions describing the behavior of subatomic particles, which later became known as Feynman diagrams and is widely used. During his lifetime, Feynman became one of the best-known scientists in the world. In a 1999 poll of 130 leading physicists worldwide by the British journal Physics World, he was ranked the seventh-greatest physicist of all time.\n",
      "He assisted in the development of the atomic bomb during World War II and became known to the wider public in the 1980s as a member of the Rogers Commission, the panel that investigated the Space Shuttle Challenger disaster. Along with his work in theoretical physics, Feynman has been credited with having pioneered the field of quantum computing and introducing the concept of nanotechnology. He held the Richard C. Tolman professorship in theoretical physics at the California Institute of Technology.\n",
      "Feynman was a keen popularizer of physics through both books and lectures, including a talk on top-down nanotechnology, \"There's Plenty of Room at the Bottom\" (1959) and the three-volumes of his undergraduate lectures, The Feynman Lectures on Physics (1961–1964). He delivered lectures for lay audiences, recorded in The Character of Physical Law (1965) and QED: The Strange Theory of Light and Matter (1985). Feynman also became known through his autobiographical books Surely You're Joking, Mr. Feynman! (1985) and What Do You Care What Other People Think? (1988), and books written about him such as Tuva or Bust! by Ralph Leighton and the biography Genius: The Life and Science of Richard Feynman by James Gleick.\n",
      "\n",
      "Page: Feynman (microarchitecture)\n",
      "Summary: Feynman is a microarchitecture for GPUs by Nvidia announced at Nvidia GTC in 2025 by CEO Jensen Huang. It is named after theoretical physicist Richard Feynman. It will use a Vera CPU from the preceding generation microarchitecture Vera Rubin and is planned to be released in 2028. Feynman will use High Bandwidth Memory (HBM). Nvidia is using its own Blackwell GPUs to accelerate the design of Feynman.\n",
      "\n",
      "Page: The Feynman Lectures on Physics\n",
      "Summary: The Feynman Lectures on Physics is a physics textbook based on a great number of lectures by Richard Feynman, a Nobel laureate who has sometimes been called \"The Great Explainer\". The lectures were presented before undergraduate students at the California Institute of Technology (Caltech), during 1961–1964.  The book's co-authors are Feynman, Robert B. Leighton, and Matthew Sands.\n",
      "A 2013 review in Nature described the book as having \"simplicity, beauty, unity ... presented with enthusiasm and insight\".\n",
      "\n",
      "\u001b[0m\n",
      "Thought:\u001b[32;1m\u001b[1;3mI have gathered information about Richard Feynman from Wikipedia. Now I can provide details about who he was based on the information retrieved.\n",
      "\n",
      "Final Answer: Richard Feynman was an American theoretical physicist known for his work in quantum mechanics, quantum electrodynamics, superfluidity, and particle physics. He received the Nobel Prize in Physics in 1965. Feynman also contributed to the development of quantum computing, nanotechnology, and popularized physics through books and lectures.\u001b[0m\n",
      "\n",
      "\u001b[1m> Finished chain.\u001b[0m\n"
     ]
    },
    {
     "data": {
      "text/plain": [
       "'Richard Feynman was an American theoretical physicist known for his work in quantum mechanics, quantum electrodynamics, superfluidity, and particle physics. He received the Nobel Prize in Physics in 1965. Feynman also contributed to the development of quantum computing, nanotechnology, and popularized physics through books and lectures.'"
      ]
     },
     "execution_count": 13,
     "metadata": {},
     "output_type": "execute_result"
    }
   ],
   "source": [
    "agent.run(input = 'Who is Richard Feynman')"
   ]
  },
  {
   "cell_type": "code",
   "execution_count": null,
   "id": "06490c5e-ded1-4a28-b836-31e42fca8afe",
   "metadata": {},
   "outputs": [],
   "source": []
  }
 ],
 "metadata": {
  "kernelspec": {
   "display_name": "Python 3 [3.10]",
   "language": "python",
   "name": "python3"
  },
  "language_info": {
   "codemirror_mode": {
    "name": "ipython",
    "version": 3
   },
   "file_extension": ".py",
   "mimetype": "text/x-python",
   "name": "python",
   "nbconvert_exporter": "python",
   "pygments_lexer": "ipython3",
   "version": "3.10.2"
  }
 },
 "nbformat": 4,
 "nbformat_minor": 5
}
